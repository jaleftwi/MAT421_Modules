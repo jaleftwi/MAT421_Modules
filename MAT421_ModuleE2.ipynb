{
  "nbformat": 4,
  "nbformat_minor": 0,
  "metadata": {
    "colab": {
      "name": "MAT421_ModuleE2.ipynb",
      "provenance": [],
      "authorship_tag": "ABX9TyOrBprFKZ635q/vzixgzr/g",
      "include_colab_link": true
    },
    "kernelspec": {
      "name": "python3",
      "display_name": "Python 3"
    },
    "language_info": {
      "name": "python"
    }
  },
  "cells": [
    {
      "cell_type": "markdown",
      "metadata": {
        "id": "view-in-github",
        "colab_type": "text"
      },
      "source": [
        "<a href=\"https://colab.research.google.com/github/jaleftwi/MAT421_Modules/blob/main/MAT421_ModuleE2.ipynb\" target=\"_parent\"><img src=\"https://colab.research.google.com/assets/colab-badge.svg\" alt=\"Open In Colab\"/></a>"
      ]
    },
    {
      "cell_type": "markdown",
      "source": [
        "# **Module E (Part 2)** *Differentiation and Taylor Approximation*\n",
        "\n",
        "---\n",
        "# **Notice:**\n",
        "MAT421 class has students work on a secondary project from this week on. Therefore, some weeks are deonoted as optional in the effort to have students prioritize specific due dates of the projects over the weekly conceptual updates.\n",
        "\n",
        "At this time, elaboration of this module is halted."
      ],
      "metadata": {
        "id": "pKhWxQsi15v5"
      }
    }
  ]
}