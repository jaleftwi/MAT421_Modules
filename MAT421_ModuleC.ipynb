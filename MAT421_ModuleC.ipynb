{
  "nbformat": 4,
  "nbformat_minor": 0,
  "metadata": {
    "colab": {
      "name": "MAT421_ModuleC.ipynb",
      "provenance": [],
      "authorship_tag": "ABX9TyMlgLlvjNk5vwbWYWxYbOdq",
      "include_colab_link": true
    },
    "kernelspec": {
      "name": "python3",
      "display_name": "Python 3"
    },
    "language_info": {
      "name": "python"
    }
  },
  "cells": [
    {
      "cell_type": "markdown",
      "metadata": {
        "id": "view-in-github",
        "colab_type": "text"
      },
      "source": [
        "<a href=\"https://colab.research.google.com/github/jaleftwi/MAT421_Modules/blob/main/MAT421_ModuleC.ipynb\" target=\"_parent\"><img src=\"https://colab.research.google.com/assets/colab-badge.svg\" alt=\"Open In Colab\"/></a>"
      ]
    },
    {
      "cell_type": "markdown",
      "source": [
        "# **Module C**\n",
        "\n",
        "---\n",
        "Moving on to the next section in MAT 421, Module C will cover the following topics:\n",
        "\n",
        "*   19.1 Root Finding Problem Statement\n",
        "*   19.2 Tolerance\n",
        "*   19.3 Bisection Method\n",
        "*   19.4 Newton-Raphson Method\n",
        "*   19.5 Root Finding in Python"
      ],
      "metadata": {
        "id": "EF8FqxwXX4Kz"
      }
    },
    {
      "cell_type": "markdown",
      "source": [
        "## **Section 19.1 Root Finding Problem Statement**\n",
        "---\n",
        "As a basic foundational knowledge- the 'root' or oftentimes the 'zero' is the value x\\* of a function f(x) such that f(x\\*) = 0. Roots are one of the most important properties of a function. As many engineers and mathematicians are well aware- root finding is essential in the processes of optimization and problem solving.\n",
        "\n",
        "Of course, the difficulty of root finding can vary from function to function. While f(x) = x - 10 can easily be solved for x = 10 when f(x) = 0, and though techniques to find precise roots exist for quadratic polynomial functions such as the 'quadratic formula'; most functions do not possess a convenient analytic method to obtain a precise root.\n",
        "\n",
        "For this purpose, several methods to approximate roots have been formulated to best identify a close solution. While there are be functions that do not have roots absolutely, many of these methods are adept in finding roots in even the most complicated functions in which roots do indeed exist."
      ],
      "metadata": {
        "id": "ZE4rZ-BUZIZT"
      }
    },
    {
      "cell_type": "markdown",
      "source": [
        "## **Section 19.2 Toleranace**\n",
        "---\n",
        "One thing to touch upon before delving into these methods is the idea of 'tolerance'. Since these methods are not purely 'analytic' in that they do not always determine exact solutions; they do however produce approximations of varying degrees of accuracy that are 'close enough' to the true solution.\n",
        "\n",
        "As consequence of these approximations, some deviation or error is bound to occur. For this reason, in using these methods we must carefully consider the tolerance we wish to accept. Tolerance is in this defintion: the level of error that is found acceptable within the scope of the problem.\n",
        "\n",
        "A solution is considered acceptable when the error produced between the approximate and true solutions are within the set level of tolerance. In this case, |f(x*)| < tolerance is the 'check' used to determine validity. However, other methods opt to use the deviation between two approximate solutions as the means to prove validity. In this case, |xi+1 - xi| < tolerance is represented with 'i' signifying a single iteration of the process used to deteremine the root."
      ],
      "metadata": {
        "id": "Ox8bCQ5RZMJ6"
      }
    },
    {
      "cell_type": "markdown",
      "source": [
        "## **Section 19.3 Bisection Method**\n",
        "---\n",
        "At its basis, the bisection method utilizes a concept known as the intermediete value theorem. According to the theorem: if f(x) is a continuous function and there exists a,b (a < b) such that f(a) and f(b) are opposite in sign (one is positive and one is negative), then there exists a 'c' such that a < c < b  in which f(c) = 0. Therefore, somewhere between a and b exists a value which would be a root of the function.\n",
        "\n",
        "Through an iterative process of narrowing down the range of 'a' and 'b', the approximate midpoint m = (a+b)/2 approaches within the range of tolerance that we set for the 'true' solution. The initial midpoint will often not be suitable as the approximate soltuion, in which case the value m will either replace a (f(a) > 0 and f(m) > 0) as the 'upper bound' of the range or replace b (f(b) < 0 and f(b) < 0) as the 'lower bound' of the range. Once replaced, the midpoint is taken again, and the process continues until tolerance is reached.\n",
        "\n",
        "The code below is a demonstration of the process in Python:"
      ],
      "metadata": {
        "id": "arHdoIDKZpLn"
      }
    },
    {
      "cell_type": "code",
      "source": [
        "import numpy as np\n",
        "\n",
        "def my_bisection(f, a, b, tolerance):\n",
        "  # This function takes a mathematical function f to approximate a root\n",
        "  # between a and b until tolerance is reached. In this case\n",
        "  # this is when |f(m)| < tolerance with m being the midpoint between a and b\n",
        "\n",
        "  # First check if a and b are opposite signs\n",
        "  if np.sign(a) == np.sign(b):\n",
        "    raise Exception(\n",
        "        \"There is not a root between a and b\"\n",
        "    )\n",
        "  \n",
        "  # Get midpoint\n",
        "  m = (a+b) / 2\n",
        "\n",
        "  # Check if midpoint is within tolerance, if not replace a bound:\n",
        "    # Is m within range of the solution?\n",
        "  if np.abs(f(m)) < tolerance:\n",
        "    return m\n",
        "\n",
        "    # Is m an improvement on the a bound?\n",
        "  elif np.sign(f(a)) == np.sign(f(m)):\n",
        "    return my_bisection(f, m, b, tolerance)   # Perform the process again using a = m\n",
        "\n",
        "    # Is m an improvement on the b bound?\n",
        "  elif np.sign(f(b)) == np.sign(f(m)):\n",
        "    return my_bisection(f, a, m, tolerance)   # Perform the process again using b = m\n",
        "\n",
        "  # The process recursively repeates until f(m) < tolerance"
      ],
      "metadata": {
        "id": "nNSdUiw-Z3W-"
      },
      "execution_count": 7,
      "outputs": []
    },
    {
      "cell_type": "code",
      "source": [
        "# Demostration\n",
        "f = lambda x: x**2 - 100      # y = x^2 - 100, roots: -10 and 10\n",
        "\n",
        "root = my_bisection(f, 0, 20, 8)\n",
        "print(\"Root =\", root)"
      ],
      "metadata": {
        "colab": {
          "base_uri": "https://localhost:8080/"
        },
        "id": "--k4QJ0u5bK7",
        "outputId": "62791d74-e2ce-4995-ef4f-7704e199a77f"
      },
      "execution_count": 8,
      "outputs": [
        {
          "output_type": "stream",
          "name": "stdout",
          "text": [
            "Root = 10.0\n"
          ]
        }
      ]
    },
    {
      "cell_type": "markdown",
      "source": [
        "## **Section 19.4 Newton-Raphson Method**\n",
        "---\n",
        "Sometimes the midpoint is not the most efficient value to use to approximate the root. For this reason, other iterative methods have been used to approximate the root- including the Newton-Raphson Method.\n",
        "\n",
        "The Newton-Raphson methods utilizes the derivative of the function at a chosen point x0, and uses that derivative (the slope at that point) to create a 'linear approximation' of the root. This iterative appoaches takes an initial guess x0, and approximates f = f(x0) + f'(x0)(x1 - x0) +/- tolerance. When solving for the next step, x1 = x0 - f(x0)/f'(x0).\n",
        "\n",
        "As the iterations continued, the guessed next approximation becomes more and more accurate, each using the previous guess as its 'initial guess'.\n",
        "\n",
        "The process can also be expedited into Python, as shown below:"
      ],
      "metadata": {
        "id": "8J9JwCsbZuXd"
      }
    },
    {
      "cell_type": "code",
      "source": [
        "import numpy as np\n",
        "\n",
        "f = lambda x: x**2 - 36     # y = x^2 - 36  roots: x = -6 and x = 6\n",
        "fprime = lambda x : 2*x     # Derivative must be written directly, y' = 2x\n",
        "xValue = 4.5                # Intial Guess of the root\n",
        "\n",
        "approximation = xValue - (f(xValue))/(fprime(xValue))\n",
        "print(\"Approximation =\", approximation)"
      ],
      "metadata": {
        "colab": {
          "base_uri": "https://localhost:8080/"
        },
        "id": "ibwQ10XvZ5Pf",
        "outputId": "356b9008-f014-4560-b67e-19d33ed75f8e"
      },
      "execution_count": 11,
      "outputs": [
        {
          "output_type": "stream",
          "name": "stdout",
          "text": [
            "Approximation = 6.25\n"
          ]
        }
      ]
    },
    {
      "cell_type": "markdown",
      "source": [
        "This process is the repeated iteratively with the approximation replacing the initial 'xValue'. In general, the Newton-Raphson Method is quicker than the Bisection Method."
      ],
      "metadata": {
        "id": "aMEnIqXK_4AH"
      }
    },
    {
      "cell_type": "markdown",
      "source": [
        "**Homework Question**: *Find a function f(x) and guess for the root of f,x0, such that the Newton-Raphson method would oscillate between x0 and −x0 indefinitely.*"
      ],
      "metadata": {
        "id": "RxsAj1FH6KG_"
      }
    },
    {
      "cell_type": "markdown",
      "source": [
        "**Ans:** In this case, -x0 = x0 - (f(x0)/f'(x0)) and x0 = -x0 - (f(-x0)/f'(-x0))\n",
        "\n",
        "Because of this, any solution in which x0 = (1/2) * (f(x0) / ((f'(x0))) is appropiate as a solution. In a quadratic a^2*x + b*x + c, this is achieved when c = 3*a*x^2 + b*x.\n",
        "\n",
        "Thus, if **f(x) = x^2 + x + 80**, and the initial guess **x0 = 5**, then it will oscillate from x0 = 5 to x1 = -5."
      ],
      "metadata": {
        "id": "4mqVhp5j7PUB"
      }
    },
    {
      "cell_type": "markdown",
      "source": [
        "## **Section 19.5 Root Finding in Python**\n",
        "---\n",
        "Since root finding is a common problem persisting across diverse fields, it should not come as a surprise that the programming language Python comes well equipped with functions that make finding roots much easier. In these cases, we will discuss the Python function '*f_solve*' from *scipy.optimize*.\n",
        "\n",
        "While not all of the arguments that can be used for '*f_solve*' will be specified here, the documentation for the function online can be used as a supplement to fully understand its implication. That said, there are two aregument that will be touched on breifly here: the function and the intial guess. We will show that implementation below: \n",
        "\n"
      ],
      "metadata": {
        "id": "goBWAwc0Z5qe"
      }
    },
    {
      "cell_type": "code",
      "source": [
        "from scipy.optimize import fsolve\n",
        "\n",
        "f = lambda x: x**3 + 30*x**2 - 100*x + 20\n",
        "\n",
        "fsolve(f, 20)"
      ],
      "metadata": {
        "colab": {
          "base_uri": "https://localhost:8080/"
        },
        "id": "SzzKv6P1r4Ve",
        "outputId": "73e83d4d-d89b-43d9-f49a-1954c703c229"
      },
      "execution_count": 6,
      "outputs": [
        {
          "output_type": "execute_result",
          "data": {
            "text/plain": [
              "array([2.83072253])"
            ]
          },
          "metadata": {},
          "execution_count": 6
        }
      ]
    },
    {
      "cell_type": "markdown",
      "source": [
        "From the intial guess, '*f_solve*' detemined **one** approximate soltution to the function as x = 2.8307...\n",
        "\n",
        "**Note:** Python also accepts multiple initial guesses formed as an array to determine multiple approximate solutions."
      ],
      "metadata": {
        "id": "M4Je3GHIr3uB"
      }
    },
    {
      "cell_type": "code",
      "source": [
        "from scipy.optimize import fsolve\n",
        "\n",
        "f = lambda x: x**3 + 30*x**2 - 100*x + 20\n",
        "\n",
        "fsolve(f, [20, -10])"
      ],
      "metadata": {
        "colab": {
          "base_uri": "https://localhost:8080/"
        },
        "id": "-YX3LE4BtNui",
        "outputId": "94781cad-856a-45f7-d352-d43ce1cb96ed"
      },
      "execution_count": 5,
      "outputs": [
        {
          "output_type": "execute_result",
          "data": {
            "text/plain": [
              "array([2.83072253, 0.21381248])"
            ]
          },
          "metadata": {},
          "execution_count": 5
        }
      ]
    }
  ]
}