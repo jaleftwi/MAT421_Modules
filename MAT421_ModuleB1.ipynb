{
  "nbformat": 4,
  "nbformat_minor": 0,
  "metadata": {
    "colab": {
      "name": "MAT421_ModuleB1.ipynb",
      "provenance": [],
      "authorship_tag": "ABX9TyNJrpyTdj5dVEe59A48aVbT",
      "include_colab_link": true
    },
    "kernelspec": {
      "name": "python3",
      "display_name": "Python 3"
    },
    "language_info": {
      "name": "python"
    }
  },
  "cells": [
    {
      "cell_type": "markdown",
      "metadata": {
        "id": "view-in-github",
        "colab_type": "text"
      },
      "source": [
        "<a href=\"https://colab.research.google.com/github/jaleftwi/MAT421_Modules/blob/main/MAT421_ModuleB1.ipynb\" target=\"_parent\"><img src=\"https://colab.research.google.com/assets/colab-badge.svg\" alt=\"Open In Colab\"/></a>"
      ]
    },
    {
      "cell_type": "markdown",
      "source": [
        "# **Module B**\n",
        "\n",
        "---\n",
        "The second module that will be covered from MAT 421 is Module B. This section will cover the first half of Module B, covering lessons including:\n",
        "\n",
        "*   17.1 Interpolation Problem Statement\n",
        "*   17.2 Linear Interpolation\n",
        "*   17.3 Cubic Spline Interpolation\n"
      ],
      "metadata": {
        "id": "pwrzXSrwFebD"
      }
    },
    {
      "cell_type": "markdown",
      "source": [
        "## **Section 17.1 Interpolation Problem Statement**\n",
        "---\n",
        "Firstly, it is important to understand what interpolation really is.\n",
        "\n",
        "A data set may contain many various data points- yet often this data is not sufficient for determining all necessary values. Because estimation is required to some degree in modeling data- often times interpolation is involved to determine a model for the nonprovided data values.\n",
        "\n",
        "This differs slightly from regression- in which regression seeks to find a \"best fit\" according to data provided. Regression may not pass through provided values in the model- in contrast interpolation strives to pass through reliable data points, connecting them point-to-point. Because of this, interpolation may occasionally not fall under an underlying model- while regression will also create a \"best fit\" to such a type of model.\n",
        "\n",
        "There is not simply one form of interpolation. In estimating values, connecting the space between reliable data points can take on many forms. Regardless of whether the model is linear from point to point or cubic, interpolation takes the independent values x and the dependent values y to create an estimation function y(xi) = yi (i being the index indicating every known data point). Inserting a new x called x* into the estimation function and evaluating y(x*) is called interpolation.\n",
        "\n",
        "**Note**: Interpolation is the process of estimating point between given data, while extrapolation is estimating points outside (before or after) the given data.\n"
      ],
      "metadata": {
        "id": "uQIWqZQuG9la"
      }
    },
    {
      "cell_type": "markdown",
      "source": [
        "## **Section 17.2 Linear Interpolation**\n",
        "---\n",
        "Linear Interpolation is the process of connecting the relaible data point by straight lines. Thus, the estimated points are assumed to be directly between the already known data values.\n",
        "\n",
        "If x\\* is a point between [xi, xi+1], then the linear interpolation near x can be expressed as y(x\\*) = (yi) + (x\\* - xi)\\* ((yi+1 - yi)/(xi+1 - xi))\n"
      ],
      "metadata": {
        "id": "Wg-sOI9aHSSV"
      }
    },
    {
      "cell_type": "markdown",
      "source": [
        "**Homework Question**: *Write a function my_lin_interp(x, y, X), where x and y are arrays containing experimental data points, and X is an array. Assume that x and X are in ascending order and have unique elements. The output argument, Y, should be an array, the same size as X, where Y[i] is the linear interpolation of X[i]. You should not use interp from numpy or interp1d from scipy.*"
      ],
      "metadata": {
        "id": "S5UCLWP9c-9l"
      }
    },
    {
      "cell_type": "code",
      "source": [
        "def my_lin_interp(x, y, estX):\n",
        "  import math\n",
        "  estY = []\n",
        "  \n",
        "  # Go through each element in X to create an estimate Y\n",
        "  for m in estX:\n",
        "    # Find the index i preceding current data point m\n",
        "    i = -1    # Start before the first element (0th)\n",
        "    for value in x:\n",
        "      if m > value:\n",
        "        i = i+1\n",
        "\n",
        "    # Evaluate expression to interpolate current value\n",
        "    estimateY = y[i] + (m - x[i])*((y[i+1] - y[i]) / (x[i+1] - x[i]))\n",
        "    estY.append(estimateY)\n",
        "\n",
        "  # end for loop\n",
        "  return estY"
      ],
      "metadata": {
        "id": "Tm7zG1VsdDKV"
      },
      "execution_count": 45,
      "outputs": []
    },
    {
      "cell_type": "markdown",
      "source": [
        "Trials:"
      ],
      "metadata": {
        "id": "cUvDKyWWovfc"
      }
    },
    {
      "cell_type": "code",
      "source": [
        "x = [2, 4, 7]\n",
        "y = [5, 4, 6]\n",
        "estX = [3, 5]\n",
        "\n",
        "my_lin_interp(x, y, estX)"
      ],
      "metadata": {
        "colab": {
          "base_uri": "https://localhost:8080/"
        },
        "id": "QCg_8JcFo0YD",
        "outputId": "317c6a02-94bd-4ee1-9631-1759afa473b0"
      },
      "execution_count": 46,
      "outputs": [
        {
          "output_type": "execute_result",
          "data": {
            "text/plain": [
              "[4.5, 4.666666666666667]"
            ]
          },
          "metadata": {},
          "execution_count": 46
        }
      ]
    },
    {
      "cell_type": "code",
      "source": [
        "x = [1, 5, 10]\n",
        "y = [5, 25, 75]\n",
        "estX = [2, 8, 9]\n",
        "\n",
        "my_lin_interp(x, y, estX)"
      ],
      "metadata": {
        "colab": {
          "base_uri": "https://localhost:8080/"
        },
        "id": "E-3LyIKns4Ux",
        "outputId": "b29084db-7601-4327-b3ea-56e0ab3dbb7a"
      },
      "execution_count": 47,
      "outputs": [
        {
          "output_type": "execute_result",
          "data": {
            "text/plain": [
              "[10.0, 55.0, 65.0]"
            ]
          },
          "metadata": {},
          "execution_count": 47
        }
      ]
    },
    {
      "cell_type": "markdown",
      "source": [
        "## **Section 17.3 Cubic Spline Interpolation**\n",
        "---\n",
        "It should be noted, however, that assuming that the transition from one known data point to another is a linear relationship may often times be unrealistic. In many cases, the estimation function is broken up into several piecewise cubic functions in respect to each space between known data values. Thus the interpolation function may be similar in form to:\n",
        "\n",
        "y(x\\*) = {S(x\\*) = (a1)x^3 + (b1)x^2 + (c1)x + (d1) for x in [x1, x2], ... , S(x\\*) = (an-1)x^3 + (bn-1)x^2 + (cn-1)x + (dn-1) for x in [xn-1, xn]}\n",
        "\n",
        "This process is a bit more complicated than it may seem at first glance. After all, each piecewise function contains 4 unknown parameters that must be solved for. In determining these parameters, there are certain contrants that must be account for:\n",
        "\n",
        "Firstly, each point of the piecewise intersects known data points. Therefore, Si(xi) = (yi) and Si(xi+1) = (yi+1) for each index i.\n",
        "\n",
        "Secondly, to ensure that piecewise function join smoothly across the estimation, it is important for the function. Thus Si\\'(xi) = Si+1'(xi+1) **AND** Si\\\"(xi) = Si\\\"i+1(xi+1) for each index i.\n",
        "\n",
        "Depending on the circumstance, a third constraint may be occasionally added in which the second derivatives of S(x) are equal to 0 at the endpoints of the piecewise function. That is to say S1\\\"(x1) = 0 and Sn\\\"(xn) = 0.\n",
        "\n",
        "Once the constraints are set, a matrix may be formed to solve for parameters. Alternatively, a computer program may be used to estimate the parameters. Below is some python code that may help in visualizing cubic interpolation:\n"
      ],
      "metadata": {
        "id": "eXH-e7oKHgQ4"
      }
    },
    {
      "cell_type": "code",
      "source": [
        "from scipy.interpolate import CubicSpline\n",
        "import numpy as np\n",
        "import matplotlib.pyplot as pic\n",
        "\n",
        "# Set up arbitrary arrays representing pairs of data points, x must be in ascending order\n",
        "x = [1, 5, 7, 9]\n",
        "y = [2, 5, 8, 7]\n",
        "\n",
        "f = CubicSpline(x, y, bc_type = 'natural')    # Note: bc_type = natural sets the constraints mentioned in connecting the piecewise functions\n",
        "\n",
        "# Values to be estimated\n",
        "xnew = np.linspace(0, 10, 100)\n",
        "ynew = f(xnew)\n",
        "\n",
        "# Visualization of the estimation\n",
        "pic.figure()\n",
        "pic.plot(xnew, ynew)\n",
        "pic.plot(x, y, 'ro')\n",
        "pic.xlabel('x')\n",
        "pic.ylabel('y')\n",
        "pic.show()\n",
        "\n"
      ],
      "metadata": {
        "colab": {
          "base_uri": "https://localhost:8080/",
          "height": 279
        },
        "id": "D9kKGfPrbxlr",
        "outputId": "a9b32452-345b-46d4-caa9-b5acdb5a65e6"
      },
      "execution_count": 5,
      "outputs": [
        {
          "output_type": "display_data",
          "data": {
            "image/png": "[encoded data removed]",
            "text/plain": [
              "<Figure size 432x288 with 1 Axes>"
            ]
          },
          "metadata": {
            "needs_background": "light"
          }
        }
      ]
    }
  ]
}