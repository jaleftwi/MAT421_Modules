{
  "nbformat": 4,
  "nbformat_minor": 0,
  "metadata": {
    "colab": {
      "name": "MAT421_ModuleG1.ipynb",
      "provenance": [],
      "authorship_tag": "ABX9TyOLXvH1uctfqvNxuSlthknH",
      "include_colab_link": true
    },
    "kernelspec": {
      "name": "python3",
      "display_name": "Python 3"
    },
    "language_info": {
      "name": "python"
    }
  },
  "cells": [
    {
      "cell_type": "markdown",
      "metadata": {
        "id": "view-in-github",
        "colab_type": "text"
      },
      "source": [
        "<a href=\"https://colab.research.google.com/github/jaleftwi/MAT421_Modules/blob/main/MAT421_ModuleG1.ipynb\" target=\"_parent\"><img src=\"https://colab.research.google.com/assets/colab-badge.svg\" alt=\"Open In Colab\"/></a>"
      ]
    },
    {
      "cell_type": "markdown",
      "source": [
        "# **Module G1** *Numerical Integration*\n",
        "\n",
        "---\n",
        "In contrast to numerical differentiation, the following module of MAT421 will cover methods used in determining integrals numerically rather than analytically. This module will be divided into two sections. The first of which includes the following topics:\n",
        "\n",
        "*   21.1 Numerical Integration Problem Statement\n",
        "*   21.2 Riemann's Integral\n",
        "*   21.3 Trapezoid Rule"
      ],
      "metadata": {
        "id": "-hVRD4tcYGPr"
      }
    },
    {
      "cell_type": "markdown",
      "source": [
        "## **Section 21.1 Numerical Integration Problem Statement**\n",
        "---\n",
        "Often times, the \"integral\" refers to the area of the space between the x-axis and a mapped function. Finite integrals take a step further and focus on only the area covered between interval [a,b] on the x-axis. This \"area\" can translate into a variety physical intrepretations (especially when analyzing rates)- meaning that the integral is generally an important part of analysis for engineers and mathematicians.\n",
        "\n",
        "Similar to derivitation, this process of integration may not always be able to be done analytically. In fact, integration oftimes require numerical approximate solutions than its derivitive counterpart. To accomplish this, we look at a function f(x) over any interval [a,b]. Then, the interval is divided into n partitions, establishing n+1 points on [a,b] (this includes x0=a in the distinguished points, meaning xn=b). This means that now the larger interval is broken up into into smaller subintervals [xi, xi+1] within [a,b]. While the spacing (or step size) \"h\" of each subinterval may differ (h=(b-a)/n), the strategy will remain the same. By breaking apart the function's interval into several parts, approximating the area of each of the smaller partitions, and then adding up the sum- the general integral is able to be estimated.\n",
        "\n",
        "The methods for approximating the smaller partitions will be further examined in the remaing section for this module (Module G1 and G2)."
      ],
      "metadata": {
        "id": "f8wwSnh4Z5DG"
      }
    },
    {
      "cell_type": "markdown",
      "source": [
        "## **Section 21.2 Riemann's Integral**\n",
        "---\n",
        "Perhaps the simplest form of approximating integrals is the Riemann's Integral method. In the Riemann's Integral method, each subinterval is divided into rectangular blocks of area. This makes evaluating the area of each partition a simpler task. While the width of the rectangle will always be the step size \"h\", the height of the rectangle us usually chosen to be one of three options.\n",
        "\n",
        "The first is the left end point. Thus, in a subinterval [xi,xi+1], the recangular area is of size A=h\\*xi. In contrast is the right end point, in which area is of ize A=h\\*xi+1. However, both the Left Riemann Integral and Right Riemann Integral suffers from the same issue. Depending on if the function f(x) is increasing or decreasing- the rectangular area formed from the partition may be overshooting or undershooting the \"area beneath the curve\". One approach to mitigate this error is the Midpoint Riemann Integral. As the name suggests, instead of taking the left or right endpoint, the area is calculated using A=h\\*xm, in which xm is the midpoint xm=((xi+xi+1)/2).\n",
        "\n",
        "However, another approach to reducing error is decreasing the step size spacing \"h\", and thereby increasing the number of partitions n. In discussing the overall accuracy of the methods- the accuracy of both left and right Riemann methods is O(h), while the midpoint Riemann method is of O(h^2) (in both cases still being dependent on step size). Thus when possible it is preferred to perform midpoint Riemann method.\n",
        "\n",
        "The code below will showcase the differences in accuracy that can occur in using Riemann's Integral method:"
      ],
      "metadata": {
        "id": "beGjFsvbZ_Ix"
      }
    },
    {
      "cell_type": "code",
      "source": [
        "import numpy as np\n",
        "\n",
        "a = 0\n",
        "b = np.pi\n",
        "n = 10\n",
        "h = (b-a)/(n)\n",
        "\n",
        "x = np.linspace(a,b,n+1)\n",
        "f = np.cos(x)\n",
        "trueIntegral = 0   # Note that the true integral is value 0.\n",
        "\n",
        "riemannLeft = h*sum(f[:n])\n",
        "leftError = (trueIntegral) - (riemannLeft)\n",
        "\n",
        "riemannRight = h*sum(f[1::])\n",
        "rightError = (trueIntegral) - (riemannRight)\n",
        "\n",
        "riemannMidpoint = h*sum(np.cos((x[:n] + x[1:])/2))\n",
        "midpointError = (trueIntegral) - (riemannMidpoint)\n",
        "\n",
        "print(riemannLeft)\n",
        "print(leftError)\n",
        "print(riemannRight)\n",
        "print(rightError)\n",
        "print(riemannMidpoint)\n",
        "print(midpointError)"
      ],
      "metadata": {
        "colab": {
          "base_uri": "https://localhost:8080/"
        },
        "id": "jnLX9vsMPWzi",
        "outputId": "086dc878-5aa1-4892-c6be-1f5fa227a513"
      },
      "execution_count": 3,
      "outputs": [
        {
          "output_type": "stream",
          "name": "stdout",
          "text": [
            "0.3141592653589795\n",
            "-0.3141592653589795\n",
            "-0.3141592653589791\n",
            "0.3141592653589791\n",
            "3.487868498008632e-17\n",
            "-3.487868498008632e-17\n"
          ]
        }
      ]
    },
    {
      "cell_type": "markdown",
      "source": [
        "Here we see that the midpoint Riemann integral is the closest approximation to the true integral (0), which generally will be the case."
      ],
      "metadata": {
        "id": "81dDq8nYVdj1"
      }
    },
    {
      "cell_type": "markdown",
      "source": [
        "## **Section 21.3 Trapezoid Rule**\n",
        "---\n",
        "One of the biggest issues with the midpoint method is that the evaluations will have to be made for each midpoint (given that the data that is being worked with allows for computing the function at the midpoint at all). Another issue is that naturally with a function's curve, estimating with flat rectangle does not account for slope. While the issue may be mitigated using smaller stepsizes of \"h\", another approach is to estimate the area by using trapezoids instead.\n",
        "\n",
        "∫f(x) dx ≈ (h/2)(f(x0) + ∑(f(xi)) + f(xn))\n",
        "\n",
        "It should be noted that the overall accuracy is O(h^2) (also dependent on step size). Below is an execution of the trapezoid method using Python code."
      ],
      "metadata": {
        "id": "hdYlbxeKamHQ"
      }
    },
    {
      "cell_type": "code",
      "source": [
        "import numpy as np\n",
        "\n",
        "a = 0\n",
        "b = np.pi\n",
        "n = 10\n",
        "h = (b-a)/(n)\n",
        "\n",
        "x = np.linspace(a,b,n+1)\n",
        "f = np.cos(x)\n",
        "trueIntegral = 0   # Note that the true integral is value 0.\n",
        "\n",
        "trapezoidMethod = (h/2)*(f[0] + 2*sum(f[1:n]) + f[n])\n",
        "trapezoidError = (trueIntegral) - (trapezoidMethod)\n",
        "\n",
        "print(trapezoidMethod)\n",
        "print(trapezoidError)"
      ],
      "metadata": {
        "colab": {
          "base_uri": "https://localhost:8080/"
        },
        "id": "W2Phd3bxfuVb",
        "outputId": "6949c845-a79c-4006-d836-3de278dd498e"
      },
      "execution_count": 2,
      "outputs": [
        {
          "output_type": "stream",
          "name": "stdout",
          "text": [
            "2.092721098805179e-16\n",
            "-2.092721098805179e-16\n"
          ]
        }
      ]
    },
    {
      "cell_type": "markdown",
      "source": [
        "Note that as the true integral is value 0, the trapezoid method is nearly as accurate as the mipoint method."
      ],
      "metadata": {
        "id": "3FYitbjmhY2j"
      }
    }
  ]
}