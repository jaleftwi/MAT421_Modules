{
  "nbformat": 4,
  "nbformat_minor": 0,
  "metadata": {
    "colab": {
      "name": "MAT421_ModuleA.ipynb",
      "provenance": [],
      "collapsed_sections": [],
      "authorship_tag": "ABX9TyMUCL3JQSxqfJPA+O0IwV8+",
      "include_colab_link": true
    },
    "kernelspec": {
      "name": "python3",
      "display_name": "Python 3"
    },
    "language_info": {
      "name": "python"
    }
  },
  "cells": [
    {
      "cell_type": "markdown",
      "metadata": {
        "id": "view-in-github",
        "colab_type": "text"
      },
      "source": [
        "<a href=\"https://colab.research.google.com/github/jaleftwi/MAT421_Modules/blob/main/MAT421_ModuleA.ipynb\" target=\"_parent\"><img src=\"https://colab.research.google.com/assets/colab-badge.svg\" alt=\"Open In Colab\"/></a>"
      ]
    },
    {
      "cell_type": "markdown",
      "source": [
        "Greetings! This series of documents are created as part of the MAT 421 course at Arizona State University. The purpose of these modules are to allow students to explain mathematical concepts and principles by recontextualizing these ideas through computer code. By doing so, the student's ability and flexibility in explaining (and understanding) these concepts will increase."
      ],
      "metadata": {
        "id": "ESuVhAw5fybI"
      }
    },
    {
      "cell_type": "markdown",
      "source": [
        "# **Module A**\n",
        "\n",
        "---\n",
        "\n",
        "\n",
        "This is the first of these Module: Module A. Sections covered from MAT421 in this module include:\n",
        "\n",
        "*   9.1 Base-N and Binary\n",
        "*   9.2 Floating Point Numbers\n",
        "*   9.3 Round Off Errors"
      ],
      "metadata": {
        "id": "cQ_jdl-2g54T"
      }
    },
    {
      "cell_type": "markdown",
      "source": [
        "## **Section 9.1 Base N and Binary**\n",
        "---\n",
        "One of the first principals of mathematics is the representation of numbers. Across the globe, the most basic representation of numbers expressed is the decimal system. In the decimal system, 10 symbols are chosen (0 to 9) to express groupinging of numbers. After 9, instead of a new symbol to express ten, a new digit is appended onto the value to express \"1\" ten and \"0\" ones (10). Mathematically, this can be expressed through exponential expansion:\n",
        "\n",
        "123.45 = 1* 10^{2} + 2* 10^{1} + 3* 10^{0} + 4* 10^{-1} + 5* {-2}\n",
        "\n",
        "This decimal system is only one manner to represent numbers. Since 10 digits are used, this is known as \"Base 10\". But any value \"N\" can be chosen as a base to represent a number.\n",
        "\n",
        "NOTE: Base 2 is also known as binary."
      ],
      "metadata": {
        "id": "7APnJdkinBpM"
      }
    },
    {
      "cell_type": "code",
      "source": [
        "# Base N\n",
        "import math\n",
        "\n",
        "# Representing 10 (base 10) in Base 3\n",
        "x = 10\n",
        "y = 0\n",
        "newBase = 3\n",
        "maxExp = math.log10(x)/math.log10(3)       # log3(10) = 2.xxxxxx\n",
        "maxExp = math.floor(maxExp)\n",
        "\n",
        "exp = maxExp\n",
        "while (exp >= 0):\n",
        "  div = x / (newBase**exp)        # 10 / 3^2 = 1\n",
        "  div = math.floor(div)\n",
        "  if(div > 0):\n",
        "    y = y + div * (10**exp)         # multiplication is done by 10 for sake of representation for the computer language\n",
        "    x = x - newBase**exp            # We know 1 * 3^2 is now needed, subtract from the total to continue converting (10-9 = 1)\n",
        "  exp = exp - 1                     # Decrement and loop\n",
        "\n",
        "print(y)                            # See below for conversion\n",
        "\n",
        "# Representing 10 (base 10) in Base 5\n",
        "x = 10\n",
        "# 10 / 5^1 = 2, (10-2*5^1=0), 0 / 5^0 = 0\n",
        "y = 20                       # 2*5^1 + 0*5^0\n",
        "\n",
        "# Representin 101 (base 2) in Base 10.\n",
        "x = 101\n",
        "# 1*2^2 + 0*2^1 + 1*2^0 = 1*4 + 0*2 + 1*1 = 4 + 0 + 1  = 5\n",
        "y = 5\n",
        "\n",
        "# Representing 9 (base 10) in Base 2 (Binary)\n",
        "x = 9\n",
        "# 9 / 2^3 = 1, (9-1*2^3=1), 1 / 2^2 = 0, 1 / 2^1 = 0, 1 / 2^0 = 1\n",
        "y = 1001\n",
        "\n",
        "# Representing 20 (base 10) in Base 2 (Binary)\n",
        "x = 20\n",
        "# 20 / 2^4 = 1, (20-1*2^4=4), 4 / 2^3 = 0, 4 / 2^2 = 1, (4-1*2^2=0), 0 / 2^1 = 0, 0 / 2^0 = 0\n",
        "y = 10100"
      ],
      "metadata": {
        "colab": {
          "base_uri": "https://localhost:8080/"
        },
        "id": "WxTyorZwf0m-",
        "outputId": "5a2db1ce-fa1e-4a18-ed7b-0e72e77cb10e"
      },
      "execution_count": 21,
      "outputs": [
        {
          "output_type": "stream",
          "name": "stdout",
          "text": [
            "101\n"
          ]
        }
      ]
    },
    {
      "cell_type": "markdown",
      "source": [
        "## **Section 9.2 Floating Point Numbers**\n",
        "---\n",
        "One important aspect of number representation is that computers internally register values as \"ones and zeros\". That is to say, that despite what a computer may display to the user, internally the computer uses a binary system to operate. Of course, this make rembering more complex information like decimal much more complicated. How would a computer remember -1432.32 in binary?\n",
        "\n",
        "The answer to this problem is the floating point value. Floating point values use the limited digits allocated for storing data (called bits) in a computer to represent more complicated numbers. There are three aspects to understand in a floating point number.\n",
        "\n",
        "First is the sign indicator, a single bit indicating if the corresponding value is postive (0) or negative (1). Second is the exponent: a value that is expressed with the power of 2 (2^exp) that is internally multiplied with the next component to determine the value. This important value is offset to allow both positive and negative exponents. Lastly is the fraction, which behaves as the coefficient of the exponent.\n",
        "\n",
        "For a 64 bit value, the floating point can be represented as:\n",
        "\n",
        "N = (-1)^s * 2^(exp-1024) * (1 + fraction)\n",
        "\n",
        "With varying combinations of exp and fraction- many complicated values may be represented. However, even this representation is limited. Depending on the number of bits, floating points have a maximum value and a minimum value that can be stored. Any values stored above or below these thresholds are assigned infinty or 0 repsectively. Additionally, between represented numbers exists values that cannot be assigned floating point counterparts- and thus rounding will occur (causing unintended side affects that will be explored later)."
      ],
      "metadata": {
        "id": "rziqeNzqndML"
      }
    },
    {
      "cell_type": "code",
      "source": [
        "import sys\n",
        "sys.float_info       # Note this expresses the maximum value, minimum value, exponent range, and epsilon (the smallest value change can be detected) "
      ],
      "metadata": {
        "colab": {
          "base_uri": "https://localhost:8080/"
        },
        "id": "xblNtgXBnjl7",
        "outputId": "e1d11148-85d7-41c2-e3a2-fa63bb5542e4"
      },
      "execution_count": 25,
      "outputs": [
        {
          "output_type": "execute_result",
          "data": {
            "text/plain": [
              "sys.float_info(max=1.7976931348623157e+308, max_exp=1024, max_10_exp=308, min=2.2250738585072014e-308, min_exp=-1021, min_10_exp=-307, dig=15, mant_dig=53, epsilon=2.220446049250313e-16, radix=2, rounds=1)"
            ]
          },
          "metadata": {},
          "execution_count": 25
        }
      ]
    },
    {
      "cell_type": "code",
      "source": [
        "print(10**-1309)        # Notice that as this is below the minimum value, the floating point opts to represent the value as 0.0, and compares the two as equal.\n",
        "print(10**-1309 == 0)\n",
        "\n",
        "# Maximum values are considered an overflow- and are often treated by assigning \"inf\" for infinity."
      ],
      "metadata": {
        "colab": {
          "base_uri": "https://localhost:8080/"
        },
        "id": "Tb9W9lT6FwO4",
        "outputId": "1d1526fd-8e2c-48d3-eb96-6b5e94ca4db8"
      },
      "execution_count": 33,
      "outputs": [
        {
          "output_type": "stream",
          "name": "stdout",
          "text": [
            "0.0\n",
            "True\n"
          ]
        }
      ]
    },
    {
      "cell_type": "markdown",
      "source": [
        "## **Section 9.3 Round Off Errors**\n",
        "---\n",
        "Because of the limitations in representation in floating point numbers- not all values can have perfect precision. In fact, as computers operate using a fintie number of bits, actual values will usually be rounded to the closest corresponding floating point representation. But this leaves a distance between the true value and the represented approximated value. This difference is known as round off error.\n",
        "\n",
        "Unfortunately, round off error is one of the largest grievences in mathematics, as slight differences in representation or calculations can be misleading. With enough round off errors, the total flaw may accumulated into a much larger error."
      ],
      "metadata": {
        "id": "tQt6mU2Anj_i"
      }
    },
    {
      "cell_type": "code",
      "source": [
        "# The number 103.45\n",
        "print(103.45)           # At first it may seem that nothing is wrong\n",
        "print(105.66-103.35)    # But when used in a calculation, floating point represention attempts to approximate the values to a floating point format to perfom calculations\n",
        "                        # This induces rounding, creating a bit of error. (105.66 - 103.35 = 2.31)\n",
        "print(2.31==(105.66-103.35,5))"
      ],
      "metadata": {
        "colab": {
          "base_uri": "https://localhost:8080/"
        },
        "id": "ranH3vVUnkxn",
        "outputId": "9db6940e-7e89-490c-b031-11280f261997"
      },
      "execution_count": 43,
      "outputs": [
        {
          "output_type": "stream",
          "name": "stdout",
          "text": [
            "103.45\n",
            "2.3100000000000023\n",
            "False\n"
          ]
        }
      ]
    },
    {
      "cell_type": "markdown",
      "source": [
        "One such solution is to round off the floating point value to a smaller precision when it is appropriate."
      ],
      "metadata": {
        "id": "TZPVqyu3L9d4"
      }
    },
    {
      "cell_type": "code",
      "source": [
        "print(round(105.66-103.35,5))                 # With some rounding in the right context, round off error can be avoided here.\n",
        "print(round(2.31,5)==round(105.66-103.35,5))"
      ],
      "metadata": {
        "colab": {
          "base_uri": "https://localhost:8080/"
        },
        "id": "A26H4sgmLkWF",
        "outputId": "01fe6307-606d-47f7-cba4-ebe4785f469c"
      },
      "execution_count": 42,
      "outputs": [
        {
          "output_type": "stream",
          "name": "stdout",
          "text": [
            "2.31\n",
            "True\n"
          ]
        }
      ]
    },
    {
      "cell_type": "markdown",
      "source": [
        "Lastly, I wish to touch upon the above mentioned accumulation error. Even if an error is miniscule, computers can run thousands upon thousands of calculations. Thus if left unchecked, these seemingly insignificant errors can produce flaws that become much more apparent."
      ],
      "metadata": {
        "id": "dGxCNwboNAoq"
      }
    },
    {
      "cell_type": "code",
      "source": [
        "# This function adds and subtracts 0.12345 to a value the same number of times. This means that theoretically the same value should be outputed as inputed. \n",
        "def value_change(iterations, value):\n",
        "  \n",
        "  for i in range(iterations):\n",
        "   value = value + 0.12345 \n",
        "\n",
        "  for i in range(iterations):\n",
        "   value = value - 0.12345 \n",
        "\n",
        "  return value"
      ],
      "metadata": {
        "id": "ib-yF8RbMzLO"
      },
      "execution_count": 49,
      "outputs": []
    },
    {
      "cell_type": "code",
      "source": [
        "print(value_change(1, 1.0))\n",
        "print(value_change(10000, 1.0))"
      ],
      "metadata": {
        "colab": {
          "base_uri": "https://localhost:8080/"
        },
        "id": "bobiMf_iPQ8p",
        "outputId": "f7c9c458-61ea-44ca-f9d3-d193720aa912"
      },
      "execution_count": 59,
      "outputs": [
        {
          "output_type": "stream",
          "name": "stdout",
          "text": [
            "1.0\n",
            "0.9999999999999325\n"
          ]
        }
      ]
    },
    {
      "cell_type": "code",
      "source": [
        "print(value_change(1, 5))\n",
        "print(value_change(10000000, 5))     # Despite 1 iteration not resulting in significant error, multiple calculations cause the error to become greater and greater."
      ],
      "metadata": {
        "colab": {
          "base_uri": "https://localhost:8080/"
        },
        "id": "OnV_6zmXPQo8",
        "outputId": "df4327ca-e36f-4b42-fbac-323143d9a3a1"
      },
      "execution_count": 57,
      "outputs": [
        {
          "output_type": "stream",
          "name": "stdout",
          "text": [
            "5.0\n",
            "5.000000000063363\n"
          ]
        }
      ]
    },
    {
      "cell_type": "code",
      "source": [
        "print(value_change(1, 0.002))\n",
        "print(value_change(1000, 0.0002))    # Here round-off error is already present after 1 iteration. As calculations continue, this error only accumulates."
      ],
      "metadata": {
        "colab": {
          "base_uri": "https://localhost:8080/"
        },
        "id": "9vfGeNNlPhvd",
        "outputId": "2bbac3b2-c889-4212-b448-ead6c3831a32"
      },
      "execution_count": 58,
      "outputs": [
        {
          "output_type": "stream",
          "name": "stdout",
          "text": [
            "0.0020000000000000018\n",
            "0.00020000000001046958\n"
          ]
        }
      ]
    }
  ]
}