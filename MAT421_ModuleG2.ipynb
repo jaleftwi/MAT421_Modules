{
  "nbformat": 4,
  "nbformat_minor": 0,
  "metadata": {
    "colab": {
      "name": "MAT421_ModuleG2.ipynb",
      "provenance": [],
      "authorship_tag": "ABX9TyOPl/NMqKAfioym+qYfNG6o",
      "include_colab_link": true
    },
    "kernelspec": {
      "name": "python3",
      "display_name": "Python 3"
    },
    "language_info": {
      "name": "python"
    }
  },
  "cells": [
    {
      "cell_type": "markdown",
      "metadata": {
        "id": "view-in-github",
        "colab_type": "text"
      },
      "source": [
        "<a href=\"https://colab.research.google.com/github/jaleftwi/MAT421_Modules/blob/main/MAT421_ModuleG2.ipynb\" target=\"_parent\"><img src=\"https://colab.research.google.com/assets/colab-badge.svg\" alt=\"Open In Colab\"/></a>"
      ]
    },
    {
      "cell_type": "markdown",
      "source": [
        "# **Module G2** *Numerical Integration*\n",
        "\n",
        "---\n",
        "Continuing from  last section, we will continue to cover methods used in determining integrals numerically rather than analytically. The second half of Module G will cover the following topics:\n",
        "\n",
        "*   21.4 Simpson's Rule\n",
        "*   21.5 Computing Integrals in Python"
      ],
      "metadata": {
        "id": "JD_rMFeZ5Dsr"
      }
    },
    {
      "cell_type": "markdown",
      "source": [
        "## **Section 21.4 Simpson's Rule**\n",
        "---\n",
        "Many of the approximation methods covered already focus on estimating the shape of a singular subinterval, and then finding the cumulative sum of the areas. Building on this idea, Simpson's Rule does something a bit different in approximating the area in subintervals. The basic idea is to take subintervals in groups of 2 consecutive areas, and by fitting a polynomial through the three points in each area allow for an easier area to integrate.\n",
        "\n",
        "Through use of Lagrange polynomials, the points for each subinterval can be converted into groups of polynomials. The integration of each polynomial and the summation of those results yield the following approximation:\n",
        "\n",
        "(h/3)\\*(f[x0] + 2\\*sum(f[xi] |i is odd) + 4\\*sum(f[xi] |i is even) + f[xn])"
      ],
      "metadata": {
        "id": "cIO_diGG6Dvi"
      }
    },
    {
      "cell_type": "code",
      "source": [
        "import numpy as np\n",
        "\n",
        "a = 0\n",
        "b = np.pi\n",
        "n = 10\n",
        "h = (b-a)/(n)\n",
        "\n",
        "x = np.linspace(a,b,n+1)\n",
        "f = np.cos(x)\n",
        "trueIntegral = 0   # Note that the true integral is value 0.\n",
        "\n",
        "simpsonIntegral = (h/3)*(f[0] + 2*sum(f[:n-1:2]) + 4*sum(f[1:n:2]) + f[n])\n",
        "simpsonError = (trueIntegral) - (simpsonIntegral)\n",
        "\n",
        "print(simpsonIntegral)\n",
        "print(simpsonError)"
      ],
      "metadata": {
        "id": "zjXMxWg3X0iy",
        "colab": {
          "base_uri": "https://localhost:8080/"
        },
        "outputId": "595b07d1-fcae-4eb5-a045-3c3cc1b2939b"
      },
      "execution_count": 13,
      "outputs": [
        {
          "output_type": "stream",
          "name": "stdout",
          "text": [
            "0.20943951023931953\n",
            "-0.20943951023931953\n"
          ]
        }
      ]
    },
    {
      "cell_type": "markdown",
      "source": [
        "Simpson's Rule requires an even number of partitions in order to operate correctly. The overall accuracy of the function in O(h^4), making Simpson's Rule (generally) the preferred estimator of integrals in terms of accuracy."
      ],
      "metadata": {
        "id": "nOhG9_mKZzDg"
      }
    },
    {
      "cell_type": "markdown",
      "source": [
        "## **Section 21.5 Computing Integrals in Python**\n",
        "---\n",
        "As might be expected, Python also comes equiped with various functions that allow for digital approximation of numerical integration. In this section, we will focus on some of the functions included within the sub-package \"*scipy.integrate*\". \n",
        "\n",
        "Firstly, we will observe the function \"*trapz*\":"
      ],
      "metadata": {
        "id": "zb7tsQwP6LYo"
      }
    },
    {
      "cell_type": "code",
      "source": [
        "import numpy as np\n",
        "from scipy.integrate import trapz\n",
        "\n",
        "a = 0\n",
        "b = np.pi\n",
        "n = 10\n",
        "h = (b-a)/(n)\n",
        "\n",
        "x = np.linspace(a,b,n+1)\n",
        "f = np.cos(x)\n",
        "trueIntegral = 0   # Note that the true integral is value 0.\n",
        "\n",
        "trapzIntegral = trapz(f,x)\n",
        "trapezoidMethod = (h/2)*(f[0] + 2*sum(f[1:n]) + f[n])     # Comparing to last section's trapezoid method\n",
        "\n",
        "trapzError = (trueIntegral) - (trapzIntegral)\n",
        "trapezoidError = (trueIntegral) - (trapezoidMethod)\n",
        "\n",
        "print(trapzIntegral)\n",
        "print(trapezoidMethod)\n",
        "\n",
        "print(trapzError)\n",
        "print(trapezoidError)"
      ],
      "metadata": {
        "colab": {
          "base_uri": "https://localhost:8080/"
        },
        "id": "qnHy1xkXAYD5",
        "outputId": "5c962dd0-e65d-406c-b9f6-868866928f1f"
      },
      "execution_count": null,
      "outputs": [
        {
          "output_type": "stream",
          "name": "stdout",
          "text": [
            "1.6653345369377348e-16\n",
            "2.092721098805179e-16\n",
            "-1.6653345369377348e-16\n",
            "-2.092721098805179e-16\n"
          ]
        }
      ]
    },
    {
      "cell_type": "markdown",
      "source": [
        "Note that the \"*trapz*\" function carries out the approximation with similar accuracy of that of the trapezoid method from last section. In addition to \"*trapz*\", there is further functionality covered by Python in the form of the cumulative integral \"*cumtrapz*\"\n",
        "\n",
        "We will also cover another Python function from the \"*scipy.integrate package*\", a fairly unique function known as \"*quad*\" which relies on numerical differentiation to approximate integrals:"
      ],
      "metadata": {
        "id": "_gSPiQJEAYtV"
      }
    },
    {
      "cell_type": "code",
      "source": [
        "import numpy as np\n",
        "from scipy.integrate import quad\n",
        "\n",
        "a = 0\n",
        "b = np.pi\n",
        "n = 10\n",
        "h = (b-a)/(n)\n",
        "\n",
        "trueIntegral = 0   # Note that the true integral is value 0.\n",
        "\n",
        "quadIntegral, quadErrorEst = quad(np.cos, a, b)       # Notice how the function must be placed in the first parameter of quad\n",
        "quadError = (trueIntegral) - (quadIntegral)\n",
        "\n",
        "print(quadIntegral)\n",
        "print(quadErrorEst)\n",
        "print(quadError)"
      ],
      "metadata": {
        "colab": {
          "base_uri": "https://localhost:8080/"
        },
        "id": "PibKATWwNjdu",
        "outputId": "bab8e6d1-a814-44ab-f272-2d8246b19327"
      },
      "execution_count": null,
      "outputs": [
        {
          "output_type": "stream",
          "name": "stdout",
          "text": [
            "4.9225526349740854e-17\n",
            "2.2102239425853306e-14\n",
            "-4.9225526349740854e-17\n"
          ]
        }
      ]
    },
    {
      "cell_type": "markdown",
      "source": [
        "The \"*quad*\" function is fairly accurate, though it should be noted that the first argument (function) cannot be in a form that uses a variable. In this example, the estimation of error in the \"*quad*\" gives a small range in which the true integral is indeed found."
      ],
      "metadata": {
        "id": "cl-R1Kp2QbiW"
      }
    }
  ]
}